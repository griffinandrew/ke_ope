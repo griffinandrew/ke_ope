#!/bin/bash

jupyter notebook stop
